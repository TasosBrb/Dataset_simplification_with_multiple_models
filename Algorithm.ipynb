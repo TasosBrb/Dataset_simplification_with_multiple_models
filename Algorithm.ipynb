{
  "cells": [
    {
      "cell_type": "markdown",
      "metadata": {
        "id": "x0k_Hcb7VGvw"
      },
      "source": [
        "Mparmpakas Anastasios "
      ]
    },
    {
      "cell_type": "markdown",
      "metadata": {
        "id": "jI8pOvwWVYvL"
      },
      "source": [
        "We start from tests of the algortithm. At th end is the algorithm with the same datasets trained with it."
      ]
    },
    {
      "cell_type": "code",
      "execution_count": 1,
      "metadata": {
        "id": "7Of1IUy1TUlh"
      },
      "outputs": [],
      "source": [
        "from sklearn.datasets import load_wine\n",
        "from sklearn.tree import DecisionTreeClassifier\n",
        "from sklearn.ensemble import RandomForestClassifier\n",
        "from sklearn.svm import SVC\n",
        "from sklearn.model_selection import train_test_split\n",
        "from sklearn.metrics import confusion_matrix\n",
        "from sklearn.preprocessing import StandardScaler \n",
        "from sklearn.neighbors import KNeighborsClassifier\n",
        "from sklearn.metrics import classification_report, confusion_matrix\n",
        "import pandas as pd \n",
        "import numpy as np\n",
        "from sklearn.naive_bayes import GaussianNB\n",
        "from sklearn.metrics import accuracy_score\n",
        "import sys\n",
        "from sklearn.discriminant_analysis import LinearDiscriminantAnalysis\n",
        "from sklearn.neighbors import KNeighborsClassifier\n",
        "from sklearn.neighbors import NearestCentroid\n",
        "from sklearn.metrics import f1_score\n",
        "import string\n",
        "from copy import copy, deepcopy"
      ]
    },
    {
      "cell_type": "code",
      "execution_count": 2,
      "metadata": {
        "id": "aJzqyoImTUg2"
      },
      "outputs": [],
      "source": [
        "data = load_wine()\n",
        "X = data.data\n",
        "y = data.target\n",
        "\n",
        "X_train_or, X_test_or, y_train_or, y_test_or = train_test_split(X, y, test_size=0.25, random_state=42)"
      ]
    },
    {
      "cell_type": "code",
      "execution_count": 3,
      "metadata": {
        "colab": {
          "base_uri": "https://localhost:8080/"
        },
        "id": "hAklvswHUHRj",
        "outputId": "0b0b94de-fcb8-4326-80c7-ce19cb62285e"
      },
      "outputs": [
        {
          "name": "stdout",
          "output_type": "stream",
          "text": [
            "[[15  0  0]\n",
            " [ 0 18  0]\n",
            " [ 0  0 12]]\n",
            "=======================================\n",
            "              precision    recall  f1-score   support\n",
            "\n",
            "           0       1.00      1.00      1.00        15\n",
            "           1       1.00      1.00      1.00        18\n",
            "           2       1.00      1.00      1.00        12\n",
            "\n",
            "    accuracy                           1.00        45\n",
            "   macro avg       1.00      1.00      1.00        45\n",
            "weighted avg       1.00      1.00      1.00        45\n",
            "\n",
            "1.0\n"
          ]
        }
      ],
      "source": [
        "clf = RandomForestClassifier(n_estimators=100, random_state=0)\n",
        "clf.fit(X_train_or, y_train_or)\n",
        "\n",
        "y_predict = clf.predict(X_test_or)\n",
        "\n",
        "cf_matrix = confusion_matrix(y_test_or, y_predict)\n",
        "\n",
        "print(cf_matrix)\n",
        "print(\"=======================================\")\n",
        "print(classification_report(y_test_or, y_predict)) \n",
        "print(accuracy_score(y_test_or, y_predict)) "
      ]
    },
    {
      "cell_type": "code",
      "execution_count": 4,
      "metadata": {
        "colab": {
          "base_uri": "https://localhost:8080/"
        },
        "id": "4LjKZEZmX80z",
        "outputId": "81040456-c8d4-479c-eba5-d8b11a9dcff9"
      },
      "outputs": [
        {
          "data": {
            "text/plain": [
              "array([0, 0, 2, 0, 1, 0, 1, 2, 1, 2, 0, 2, 0, 1, 0, 1, 1, 1, 0, 1, 0, 1,\n",
              "       1, 2, 2, 2, 1, 1, 1, 0, 0, 1, 2, 0, 0, 0, 2, 2, 1, 2, 0, 1, 1, 1,\n",
              "       2])"
            ]
          },
          "execution_count": 4,
          "metadata": {},
          "output_type": "execute_result"
        }
      ],
      "source": [
        "y_test_or"
      ]
    },
    {
      "cell_type": "code",
      "execution_count": 5,
      "metadata": {
        "id": "TBZT2j6haaDv"
      },
      "outputs": [],
      "source": [
        "y_0 = np.copy(y)\n",
        "y_0[y_0 == 0] = -1\n",
        "y_0[y_0 != -1] = 0\n",
        "y_0[y_0 == -1] = 1"
      ]
    },
    {
      "cell_type": "code",
      "execution_count": 6,
      "metadata": {
        "id": "cjF2IsMqd_wR"
      },
      "outputs": [],
      "source": [
        "X_train, X_test, y_train, y_test = train_test_split(X, y_0, test_size=0.25, random_state=42)"
      ]
    },
    {
      "cell_type": "code",
      "execution_count": 7,
      "metadata": {
        "colab": {
          "base_uri": "https://localhost:8080/"
        },
        "id": "y5Ss6Ye-YFqd",
        "outputId": "6bc47a91-4d38-4f24-ac87-2e5f8e6d005f"
      },
      "outputs": [
        {
          "data": {
            "text/plain": [
              "array([1, 1, 0, 1, 0, 1, 0, 0, 0, 0, 1, 0, 1, 0, 1, 0, 0, 0, 1, 0, 1, 0,\n",
              "       0, 0, 0, 0, 0, 0, 0, 1, 1, 0, 0, 1, 1, 1, 0, 0, 0, 0, 1, 0, 0, 0,\n",
              "       0])"
            ]
          },
          "execution_count": 7,
          "metadata": {},
          "output_type": "execute_result"
        }
      ],
      "source": [
        "y_test"
      ]
    },
    {
      "cell_type": "code",
      "execution_count": 8,
      "metadata": {
        "colab": {
          "base_uri": "https://localhost:8080/"
        },
        "id": "dPaokiwCeEcX",
        "outputId": "ed713753-82e8-4eee-848c-1ff87887e117"
      },
      "outputs": [
        {
          "name": "stdout",
          "output_type": "stream",
          "text": [
            "[[30  0]\n",
            " [ 2 13]]\n",
            "=======================================\n",
            "0.9285714285714286\n"
          ]
        }
      ],
      "source": [
        "clf1 = SVC(kernel='poly')\n",
        "clf1.fit(X_train, y_train)\n",
        "\n",
        "y_predict = clf1.predict(X_test)\n",
        "\n",
        "cf_matrix = confusion_matrix(y_test, y_predict)\n",
        "\n",
        "print(cf_matrix)\n",
        "print(\"=======================================\")\n",
        "print(f1_score(y_test, y_predict)) "
      ]
    },
    {
      "cell_type": "code",
      "execution_count": 9,
      "metadata": {
        "id": "pCFctg_jUrzU"
      },
      "outputs": [],
      "source": [
        "X_train = np.delete(X_train_or, np.argwhere(y_train_or == 0).flatten(), axis=0)\n",
        "X_test = np.delete(X_test_or, np.argwhere(y_test_or == 0).flatten(), axis=0)\n",
        "\n",
        "y_train = np.delete(y_train_or, np.argwhere(y_train_or == 0).flatten())\n",
        "y_test = np.delete(y_test_or, np.argwhere(y_test_or == 0).flatten())"
      ]
    },
    {
      "cell_type": "code",
      "execution_count": 10,
      "metadata": {
        "colab": {
          "base_uri": "https://localhost:8080/"
        },
        "id": "Yi4ymEj1hnZ7",
        "outputId": "26d34fc5-90dd-47b1-bb28-d70ac04da20b"
      },
      "outputs": [
        {
          "data": {
            "text/plain": [
              "array([1, 1, 2, 1, 2, 2, 1, 1, 1, 2, 1, 1, 2, 2, 1, 2, 1, 2, 1, 2, 1, 1,\n",
              "       1, 1, 2, 1, 1, 1, 1, 1, 1, 2, 2, 1, 2, 2, 1, 1, 1, 2, 2, 1, 2, 1,\n",
              "       1, 1, 2, 2, 1, 1, 1, 1, 2, 1, 1, 1, 2, 2, 1, 1, 2, 2, 1, 2, 2, 2,\n",
              "       2, 1, 1, 2, 1, 2, 1, 2, 2, 2, 2, 2, 1, 1, 1, 1, 1, 1, 2, 1, 1, 1,\n",
              "       1])"
            ]
          },
          "execution_count": 10,
          "metadata": {},
          "output_type": "execute_result"
        }
      ],
      "source": [
        "y_train"
      ]
    },
    {
      "cell_type": "code",
      "execution_count": 11,
      "metadata": {
        "id": "hACmnhCCfbIC"
      },
      "outputs": [],
      "source": [
        "y_train[y_train == 1] = 0\n",
        "y_train[y_train == 2] = 1\n",
        "y_test[y_test == 1] = 0\n",
        "y_test[y_test == 2] = 1"
      ]
    },
    {
      "cell_type": "code",
      "execution_count": 12,
      "metadata": {
        "colab": {
          "base_uri": "https://localhost:8080/"
        },
        "id": "EEgHqI-B3j_q",
        "outputId": "346fa0f2-162a-48f4-bc25-f7cd6b992fba"
      },
      "outputs": [
        {
          "name": "stdout",
          "output_type": "stream",
          "text": [
            "[[17  1]\n",
            " [ 0 12]]\n",
            "=======================================\n",
            "              precision    recall  f1-score   support\n",
            "\n",
            "           0       1.00      0.94      0.97        18\n",
            "           1       0.92      1.00      0.96        12\n",
            "\n",
            "    accuracy                           0.97        30\n",
            "   macro avg       0.96      0.97      0.97        30\n",
            "weighted avg       0.97      0.97      0.97        30\n",
            "\n"
          ]
        }
      ],
      "source": [
        "clf = SVC(kernel='linear')\n",
        "clf.fit(X_train, y_train)\n",
        "\n",
        "y_predict = clf.predict(X_test)\n",
        "\n",
        "cf_matrix = confusion_matrix(y_test, y_predict)\n",
        "\n",
        "print(cf_matrix)\n",
        "print(\"=======================================\")\n",
        "print(classification_report(y_test, y_predict)) "
      ]
    },
    {
      "cell_type": "code",
      "execution_count": 13,
      "metadata": {
        "id": "_O078lSc0APr"
      },
      "outputs": [],
      "source": [
        "y_pred = []\n",
        "for yl in X_test_or:\n",
        "  if clf1.predict(yl.reshape(1, -1))[0] == 1:\n",
        "    y_pred.append(0)\n",
        "    continue\n",
        "  else:\n",
        "    if clf.predict(yl.reshape(1, -1))[0] == 1:\n",
        "      y_pred.append(2)\n",
        "      continue\n",
        "    else:\n",
        "      y_pred.append(1) \n",
        "      continue"
      ]
    },
    {
      "cell_type": "code",
      "execution_count": 14,
      "metadata": {
        "id": "8_g4iY2X0a4b"
      },
      "outputs": [],
      "source": [
        "y_pred = np.array(y_pred)"
      ]
    },
    {
      "cell_type": "code",
      "execution_count": 15,
      "metadata": {
        "colab": {
          "base_uri": "https://localhost:8080/"
        },
        "id": "gXGsNenF0clH",
        "outputId": "a7ef8213-29ef-46a0-fb8a-ee94e983e447"
      },
      "outputs": [
        {
          "name": "stdout",
          "output_type": "stream",
          "text": [
            "0.9333333333333333\n"
          ]
        }
      ],
      "source": [
        "print(accuracy_score(y_test_or, y_pred)) "
      ]
    },
    {
      "cell_type": "code",
      "execution_count": 17,
      "metadata": {
        "colab": {
          "base_uri": "https://localhost:8080/",
          "height": 300
        },
        "id": "qh3hfpOQ8pEv",
        "outputId": "d78c0da9-6774-4265-f33b-2d726284e38b"
      },
      "outputs": [
        {
          "data": {
            "text/html": [
              "\n",
              "  <div id=\"df-06d26dbe-1de4-442c-8ee6-7a5e702f175f\">\n",
              "    <div class=\"colab-df-container\">\n",
              "      <div>\n",
              "<style scoped>\n",
              "    .dataframe tbody tr th:only-of-type {\n",
              "        vertical-align: middle;\n",
              "    }\n",
              "\n",
              "    .dataframe tbody tr th {\n",
              "        vertical-align: top;\n",
              "    }\n",
              "\n",
              "    .dataframe thead th {\n",
              "        text-align: right;\n",
              "    }\n",
              "</style>\n",
              "<table border=\"1\" class=\"dataframe\">\n",
              "  <thead>\n",
              "    <tr style=\"text-align: right;\">\n",
              "      <th></th>\n",
              "      <th>AREA</th>\n",
              "      <th>PERIMETER</th>\n",
              "      <th>MAJOR_AXIS</th>\n",
              "      <th>MINOR_AXIS</th>\n",
              "      <th>ECCENTRICITY</th>\n",
              "      <th>EQDIASQ</th>\n",
              "      <th>SOLIDITY</th>\n",
              "      <th>CONVEX_AREA</th>\n",
              "      <th>EXTENT</th>\n",
              "      <th>ASPECT_RATIO</th>\n",
              "      <th>...</th>\n",
              "      <th>KurtosisRR</th>\n",
              "      <th>KurtosisRG</th>\n",
              "      <th>KurtosisRB</th>\n",
              "      <th>EntropyRR</th>\n",
              "      <th>EntropyRG</th>\n",
              "      <th>EntropyRB</th>\n",
              "      <th>ALLdaub4RR</th>\n",
              "      <th>ALLdaub4RG</th>\n",
              "      <th>ALLdaub4RB</th>\n",
              "      <th>Class</th>\n",
              "    </tr>\n",
              "  </thead>\n",
              "  <tbody>\n",
              "    <tr>\n",
              "      <th>0</th>\n",
              "      <td>422163</td>\n",
              "      <td>2378.908</td>\n",
              "      <td>837.8484</td>\n",
              "      <td>645.6693</td>\n",
              "      <td>0.6373</td>\n",
              "      <td>733.1539</td>\n",
              "      <td>0.9947</td>\n",
              "      <td>424428</td>\n",
              "      <td>0.7831</td>\n",
              "      <td>1.2976</td>\n",
              "      <td>...</td>\n",
              "      <td>3.2370</td>\n",
              "      <td>2.9574</td>\n",
              "      <td>4.2287</td>\n",
              "      <td>-59191263232</td>\n",
              "      <td>-50714214400</td>\n",
              "      <td>-39922372608</td>\n",
              "      <td>58.7255</td>\n",
              "      <td>54.9554</td>\n",
              "      <td>47.8400</td>\n",
              "      <td>BERHI</td>\n",
              "    </tr>\n",
              "    <tr>\n",
              "      <th>1</th>\n",
              "      <td>338136</td>\n",
              "      <td>2085.144</td>\n",
              "      <td>723.8198</td>\n",
              "      <td>595.2073</td>\n",
              "      <td>0.5690</td>\n",
              "      <td>656.1464</td>\n",
              "      <td>0.9974</td>\n",
              "      <td>339014</td>\n",
              "      <td>0.7795</td>\n",
              "      <td>1.2161</td>\n",
              "      <td>...</td>\n",
              "      <td>2.6228</td>\n",
              "      <td>2.6350</td>\n",
              "      <td>3.1704</td>\n",
              "      <td>-34233065472</td>\n",
              "      <td>-37462601728</td>\n",
              "      <td>-31477794816</td>\n",
              "      <td>50.0259</td>\n",
              "      <td>52.8168</td>\n",
              "      <td>47.8315</td>\n",
              "      <td>BERHI</td>\n",
              "    </tr>\n",
              "    <tr>\n",
              "      <th>2</th>\n",
              "      <td>526843</td>\n",
              "      <td>2647.394</td>\n",
              "      <td>940.7379</td>\n",
              "      <td>715.3638</td>\n",
              "      <td>0.6494</td>\n",
              "      <td>819.0222</td>\n",
              "      <td>0.9962</td>\n",
              "      <td>528876</td>\n",
              "      <td>0.7657</td>\n",
              "      <td>1.3150</td>\n",
              "      <td>...</td>\n",
              "      <td>3.7516</td>\n",
              "      <td>3.8611</td>\n",
              "      <td>4.7192</td>\n",
              "      <td>-93948354560</td>\n",
              "      <td>-74738221056</td>\n",
              "      <td>-60311207936</td>\n",
              "      <td>65.4772</td>\n",
              "      <td>59.2860</td>\n",
              "      <td>51.9378</td>\n",
              "      <td>BERHI</td>\n",
              "    </tr>\n",
              "    <tr>\n",
              "      <th>3</th>\n",
              "      <td>416063</td>\n",
              "      <td>2351.210</td>\n",
              "      <td>827.9804</td>\n",
              "      <td>645.2988</td>\n",
              "      <td>0.6266</td>\n",
              "      <td>727.8378</td>\n",
              "      <td>0.9948</td>\n",
              "      <td>418255</td>\n",
              "      <td>0.7759</td>\n",
              "      <td>1.2831</td>\n",
              "      <td>...</td>\n",
              "      <td>5.0401</td>\n",
              "      <td>8.6136</td>\n",
              "      <td>8.2618</td>\n",
              "      <td>-32074307584</td>\n",
              "      <td>-32060925952</td>\n",
              "      <td>-29575010304</td>\n",
              "      <td>43.3900</td>\n",
              "      <td>44.1259</td>\n",
              "      <td>41.1882</td>\n",
              "      <td>BERHI</td>\n",
              "    </tr>\n",
              "    <tr>\n",
              "      <th>4</th>\n",
              "      <td>347562</td>\n",
              "      <td>2160.354</td>\n",
              "      <td>763.9877</td>\n",
              "      <td>582.8359</td>\n",
              "      <td>0.6465</td>\n",
              "      <td>665.2291</td>\n",
              "      <td>0.9908</td>\n",
              "      <td>350797</td>\n",
              "      <td>0.7569</td>\n",
              "      <td>1.3108</td>\n",
              "      <td>...</td>\n",
              "      <td>2.7016</td>\n",
              "      <td>2.9761</td>\n",
              "      <td>4.4146</td>\n",
              "      <td>-39980974080</td>\n",
              "      <td>-35980042240</td>\n",
              "      <td>-25593278464</td>\n",
              "      <td>52.7743</td>\n",
              "      <td>50.9080</td>\n",
              "      <td>42.6666</td>\n",
              "      <td>BERHI</td>\n",
              "    </tr>\n",
              "  </tbody>\n",
              "</table>\n",
              "<p>5 rows × 35 columns</p>\n",
              "</div>\n",
              "      <button class=\"colab-df-convert\" onclick=\"convertToInteractive('df-06d26dbe-1de4-442c-8ee6-7a5e702f175f')\"\n",
              "              title=\"Convert this dataframe to an interactive table.\"\n",
              "              style=\"display:none;\">\n",
              "        \n",
              "  <svg xmlns=\"http://www.w3.org/2000/svg\" height=\"24px\"viewBox=\"0 0 24 24\"\n",
              "       width=\"24px\">\n",
              "    <path d=\"M0 0h24v24H0V0z\" fill=\"none\"/>\n",
              "    <path d=\"M18.56 5.44l.94 2.06.94-2.06 2.06-.94-2.06-.94-.94-2.06-.94 2.06-2.06.94zm-11 1L8.5 8.5l.94-2.06 2.06-.94-2.06-.94L8.5 2.5l-.94 2.06-2.06.94zm10 10l.94 2.06.94-2.06 2.06-.94-2.06-.94-.94-2.06-.94 2.06-2.06.94z\"/><path d=\"M17.41 7.96l-1.37-1.37c-.4-.4-.92-.59-1.43-.59-.52 0-1.04.2-1.43.59L10.3 9.45l-7.72 7.72c-.78.78-.78 2.05 0 2.83L4 21.41c.39.39.9.59 1.41.59.51 0 1.02-.2 1.41-.59l7.78-7.78 2.81-2.81c.8-.78.8-2.07 0-2.86zM5.41 20L4 18.59l7.72-7.72 1.47 1.35L5.41 20z\"/>\n",
              "  </svg>\n",
              "      </button>\n",
              "      \n",
              "  <style>\n",
              "    .colab-df-container {\n",
              "      display:flex;\n",
              "      flex-wrap:wrap;\n",
              "      gap: 12px;\n",
              "    }\n",
              "\n",
              "    .colab-df-convert {\n",
              "      background-color: #E8F0FE;\n",
              "      border: none;\n",
              "      border-radius: 50%;\n",
              "      cursor: pointer;\n",
              "      display: none;\n",
              "      fill: #1967D2;\n",
              "      height: 32px;\n",
              "      padding: 0 0 0 0;\n",
              "      width: 32px;\n",
              "    }\n",
              "\n",
              "    .colab-df-convert:hover {\n",
              "      background-color: #E2EBFA;\n",
              "      box-shadow: 0px 1px 2px rgba(60, 64, 67, 0.3), 0px 1px 3px 1px rgba(60, 64, 67, 0.15);\n",
              "      fill: #174EA6;\n",
              "    }\n",
              "\n",
              "    [theme=dark] .colab-df-convert {\n",
              "      background-color: #3B4455;\n",
              "      fill: #D2E3FC;\n",
              "    }\n",
              "\n",
              "    [theme=dark] .colab-df-convert:hover {\n",
              "      background-color: #434B5C;\n",
              "      box-shadow: 0px 1px 3px 1px rgba(0, 0, 0, 0.15);\n",
              "      filter: drop-shadow(0px 1px 2px rgba(0, 0, 0, 0.3));\n",
              "      fill: #FFFFFF;\n",
              "    }\n",
              "  </style>\n",
              "\n",
              "      <script>\n",
              "        const buttonEl =\n",
              "          document.querySelector('#df-06d26dbe-1de4-442c-8ee6-7a5e702f175f button.colab-df-convert');\n",
              "        buttonEl.style.display =\n",
              "          google.colab.kernel.accessAllowed ? 'block' : 'none';\n",
              "\n",
              "        async function convertToInteractive(key) {\n",
              "          const element = document.querySelector('#df-06d26dbe-1de4-442c-8ee6-7a5e702f175f');\n",
              "          const dataTable =\n",
              "            await google.colab.kernel.invokeFunction('convertToInteractive',\n",
              "                                                     [key], {});\n",
              "          if (!dataTable) return;\n",
              "\n",
              "          const docLinkHtml = 'Like what you see? Visit the ' +\n",
              "            '<a target=\"_blank\" href=https://colab.research.google.com/notebooks/data_table.ipynb>data table notebook</a>'\n",
              "            + ' to learn more about interactive tables.';\n",
              "          element.innerHTML = '';\n",
              "          dataTable['output_type'] = 'display_data';\n",
              "          await google.colab.output.renderOutput(dataTable, element);\n",
              "          const docLink = document.createElement('div');\n",
              "          docLink.innerHTML = docLinkHtml;\n",
              "          element.appendChild(docLink);\n",
              "        }\n",
              "      </script>\n",
              "    </div>\n",
              "  </div>\n",
              "  "
            ],
            "text/plain": [
              "     AREA  PERIMETER  MAJOR_AXIS  MINOR_AXIS  ECCENTRICITY   EQDIASQ  \\\n",
              "0  422163   2378.908    837.8484    645.6693        0.6373  733.1539   \n",
              "1  338136   2085.144    723.8198    595.2073        0.5690  656.1464   \n",
              "2  526843   2647.394    940.7379    715.3638        0.6494  819.0222   \n",
              "3  416063   2351.210    827.9804    645.2988        0.6266  727.8378   \n",
              "4  347562   2160.354    763.9877    582.8359        0.6465  665.2291   \n",
              "\n",
              "   SOLIDITY  CONVEX_AREA  EXTENT  ASPECT_RATIO  ...  KurtosisRR  KurtosisRG  \\\n",
              "0    0.9947       424428  0.7831        1.2976  ...      3.2370      2.9574   \n",
              "1    0.9974       339014  0.7795        1.2161  ...      2.6228      2.6350   \n",
              "2    0.9962       528876  0.7657        1.3150  ...      3.7516      3.8611   \n",
              "3    0.9948       418255  0.7759        1.2831  ...      5.0401      8.6136   \n",
              "4    0.9908       350797  0.7569        1.3108  ...      2.7016      2.9761   \n",
              "\n",
              "   KurtosisRB    EntropyRR    EntropyRG    EntropyRB  ALLdaub4RR  ALLdaub4RG  \\\n",
              "0      4.2287 -59191263232 -50714214400 -39922372608     58.7255     54.9554   \n",
              "1      3.1704 -34233065472 -37462601728 -31477794816     50.0259     52.8168   \n",
              "2      4.7192 -93948354560 -74738221056 -60311207936     65.4772     59.2860   \n",
              "3      8.2618 -32074307584 -32060925952 -29575010304     43.3900     44.1259   \n",
              "4      4.4146 -39980974080 -35980042240 -25593278464     52.7743     50.9080   \n",
              "\n",
              "   ALLdaub4RB  Class  \n",
              "0     47.8400  BERHI  \n",
              "1     47.8315  BERHI  \n",
              "2     51.9378  BERHI  \n",
              "3     41.1882  BERHI  \n",
              "4     42.6666  BERHI  \n",
              "\n",
              "[5 rows x 35 columns]"
            ]
          },
          "execution_count": 17,
          "metadata": {},
          "output_type": "execute_result"
        }
      ],
      "source": [
        "df=pd.read_excel(\"Date_Fruit_Datasets.xlsx\")\n",
        "df.head()"
      ]
    },
    {
      "cell_type": "code",
      "execution_count": 18,
      "metadata": {
        "colab": {
          "base_uri": "https://localhost:8080/"
        },
        "id": "NrKnAskM8znI",
        "outputId": "7a16c34e-510f-4bef-d8e5-b2112e99d8ff"
      },
      "outputs": [
        {
          "data": {
            "text/plain": [
              "(898, 35)"
            ]
          },
          "execution_count": 18,
          "metadata": {},
          "output_type": "execute_result"
        }
      ],
      "source": [
        "df.shape"
      ]
    },
    {
      "cell_type": "code",
      "execution_count": 19,
      "metadata": {
        "id": "68nVgaCW9LNd"
      },
      "outputs": [],
      "source": [
        "X=df.drop(['Class'],axis=1)\n",
        "y=df['Class']"
      ]
    },
    {
      "cell_type": "code",
      "execution_count": 20,
      "metadata": {
        "colab": {
          "base_uri": "https://localhost:8080/"
        },
        "id": "uIIZ_9Vr9MHu",
        "outputId": "8b2a1aec-9d83-4335-ad6d-238f3be1d809"
      },
      "outputs": [
        {
          "data": {
            "text/plain": [
              "0      BERHI\n",
              "1      BERHI\n",
              "2      BERHI\n",
              "3      BERHI\n",
              "4      BERHI\n",
              "       ...  \n",
              "893    SOGAY\n",
              "894    SOGAY\n",
              "895    SOGAY\n",
              "896    SOGAY\n",
              "897    SOGAY\n",
              "Name: Class, Length: 898, dtype: object"
            ]
          },
          "execution_count": 20,
          "metadata": {},
          "output_type": "execute_result"
        }
      ],
      "source": [
        "y"
      ]
    },
    {
      "cell_type": "code",
      "execution_count": 21,
      "metadata": {
        "colab": {
          "base_uri": "https://localhost:8080/"
        },
        "id": "9VD5S1lu9SL-",
        "outputId": "87a427be-1d71-40c3-8250-3bb3e34485fe"
      },
      "outputs": [
        {
          "name": "stdout",
          "output_type": "stream",
          "text": [
            "{'BERHI', 'IRAQI', 'DOKOL', 'ROTANA', 'DEGLET', 'SAFAVI', 'SOGAY'}\n"
          ]
        }
      ],
      "source": [
        "myset = set(y)\n",
        "print(myset)"
      ]
    },
    {
      "cell_type": "code",
      "execution_count": 22,
      "metadata": {
        "colab": {
          "base_uri": "https://localhost:8080/"
        },
        "id": "v1X7U0ps9XV_",
        "outputId": "7fec1df8-a5d3-47a1-bc89-8fffba08bae8"
      },
      "outputs": [
        {
          "name": "stderr",
          "output_type": "stream",
          "text": [
            "/usr/local/lib/python3.7/dist-packages/ipykernel_launcher.py:1: SettingWithCopyWarning: \n",
            "A value is trying to be set on a copy of a slice from a DataFrame\n",
            "\n",
            "See the caveats in the documentation: https://pandas.pydata.org/pandas-docs/stable/user_guide/indexing.html#returning-a-view-versus-a-copy\n",
            "  \"\"\"Entry point for launching an IPython kernel.\n",
            "/usr/local/lib/python3.7/dist-packages/ipykernel_launcher.py:2: SettingWithCopyWarning: \n",
            "A value is trying to be set on a copy of a slice from a DataFrame\n",
            "\n",
            "See the caveats in the documentation: https://pandas.pydata.org/pandas-docs/stable/user_guide/indexing.html#returning-a-view-versus-a-copy\n",
            "  \n",
            "/usr/local/lib/python3.7/dist-packages/ipykernel_launcher.py:3: SettingWithCopyWarning: \n",
            "A value is trying to be set on a copy of a slice from a DataFrame\n",
            "\n",
            "See the caveats in the documentation: https://pandas.pydata.org/pandas-docs/stable/user_guide/indexing.html#returning-a-view-versus-a-copy\n",
            "  This is separate from the ipykernel package so we can avoid doing imports until\n",
            "/usr/local/lib/python3.7/dist-packages/ipykernel_launcher.py:4: SettingWithCopyWarning: \n",
            "A value is trying to be set on a copy of a slice from a DataFrame\n",
            "\n",
            "See the caveats in the documentation: https://pandas.pydata.org/pandas-docs/stable/user_guide/indexing.html#returning-a-view-versus-a-copy\n",
            "  after removing the cwd from sys.path.\n",
            "/usr/local/lib/python3.7/dist-packages/ipykernel_launcher.py:5: SettingWithCopyWarning: \n",
            "A value is trying to be set on a copy of a slice from a DataFrame\n",
            "\n",
            "See the caveats in the documentation: https://pandas.pydata.org/pandas-docs/stable/user_guide/indexing.html#returning-a-view-versus-a-copy\n",
            "  \"\"\"\n",
            "/usr/local/lib/python3.7/dist-packages/ipykernel_launcher.py:6: SettingWithCopyWarning: \n",
            "A value is trying to be set on a copy of a slice from a DataFrame\n",
            "\n",
            "See the caveats in the documentation: https://pandas.pydata.org/pandas-docs/stable/user_guide/indexing.html#returning-a-view-versus-a-copy\n",
            "  \n",
            "/usr/local/lib/python3.7/dist-packages/ipykernel_launcher.py:7: SettingWithCopyWarning: \n",
            "A value is trying to be set on a copy of a slice from a DataFrame\n",
            "\n",
            "See the caveats in the documentation: https://pandas.pydata.org/pandas-docs/stable/user_guide/indexing.html#returning-a-view-versus-a-copy\n",
            "  import sys\n"
          ]
        }
      ],
      "source": [
        "y[y=='SOGAY'] = 0 \n",
        "y[y=='IRAQI'] = 1 \n",
        "y[y=='ROTANA'] = 2 \n",
        "y[y=='BERHI'] = 3 \n",
        "y[y=='DEGLET'] = 4 \n",
        "y[y=='SAFAVI'] = 5 \n",
        "y[y=='DOKOL'] = 6 \n",
        "y=y.astype('int')"
      ]
    },
    {
      "cell_type": "code",
      "execution_count": 23,
      "metadata": {
        "id": "EooKzX4_86ae"
      },
      "outputs": [],
      "source": [
        "X = np.array(X)\n",
        "y = np.array(y)"
      ]
    },
    {
      "cell_type": "code",
      "execution_count": 24,
      "metadata": {
        "id": "enwMU7PnAcB4"
      },
      "outputs": [],
      "source": [
        "X_train_or, X_test_or, y_train_or, y_test_or = train_test_split(X, y, test_size=0.25, random_state=42)"
      ]
    },
    {
      "cell_type": "code",
      "execution_count": 25,
      "metadata": {
        "colab": {
          "base_uri": "https://localhost:8080/"
        },
        "id": "j_kxtGPUAlVr",
        "outputId": "00f16cc3-4ffa-4d8e-88b5-cb73f5e61603"
      },
      "outputs": [
        {
          "name": "stdout",
          "output_type": "stream",
          "text": [
            "{0, 1, 2, 3, 4, 5, 6}\n"
          ]
        }
      ],
      "source": [
        "myset = set(y_train_or)\n",
        "print(myset)"
      ]
    },
    {
      "cell_type": "code",
      "execution_count": 26,
      "metadata": {
        "colab": {
          "base_uri": "https://localhost:8080/"
        },
        "id": "FNfdG5qvAhHC",
        "outputId": "a8ad295e-c472-43fd-a45d-33801c3d2f55"
      },
      "outputs": [
        {
          "name": "stdout",
          "output_type": "stream",
          "text": [
            "[[22  0  0  0  4  0  0]\n",
            " [ 0 12  0  1  0  0  0]\n",
            " [ 1  1 43  0  0  0  0]\n",
            " [ 1  2  0 12  0  0  0]\n",
            " [ 5  0  0  0 19  0  0]\n",
            " [ 0  0  0  0  0 42  0]\n",
            " [ 0  0  0  0  5  0 55]]\n",
            "=======================================\n",
            "0.9111111111111111\n"
          ]
        }
      ],
      "source": [
        "clf =  RandomForestClassifier(n_estimators=100, random_state=0)\n",
        "clf.fit(X_train_or, y_train_or)\n",
        "\n",
        "y_predict = clf.predict(X_test_or)\n",
        "\n",
        "cf_matrix = confusion_matrix(y_test_or, y_predict)\n",
        "\n",
        "print(cf_matrix)\n",
        "print(\"=======================================\")\n",
        "print(accuracy_score(y_test_or, y_predict)) "
      ]
    },
    {
      "cell_type": "code",
      "execution_count": 27,
      "metadata": {
        "colab": {
          "base_uri": "https://localhost:8080/"
        },
        "id": "BkNMv6XT86N1",
        "outputId": "5443ea78-c897-479b-d3f4-6fd172fcc85a"
      },
      "outputs": [
        {
          "data": {
            "text/plain": [
              "(225,)"
            ]
          },
          "execution_count": 27,
          "metadata": {},
          "output_type": "execute_result"
        }
      ],
      "source": [
        "y_test_or.shape"
      ]
    },
    {
      "cell_type": "code",
      "execution_count": 28,
      "metadata": {
        "id": "UB-KD6VZAY17"
      },
      "outputs": [],
      "source": [
        "y_0 = np.copy(y)\n",
        "y_0[y_0 == 4] = -1\n",
        "y_0[y_0 != -1] = 0\n",
        "y_0[y_0 == -1] = 1"
      ]
    },
    {
      "cell_type": "code",
      "execution_count": 29,
      "metadata": {
        "id": "yW4ZDokPCRZb"
      },
      "outputs": [],
      "source": [
        "X_train, X_test, y_train, y_test = train_test_split(X, y_0, test_size=0.25, random_state=42)"
      ]
    },
    {
      "cell_type": "code",
      "execution_count": 30,
      "metadata": {
        "colab": {
          "base_uri": "https://localhost:8080/"
        },
        "id": "E6kAYMH9D7f7",
        "outputId": "4699d085-5c1d-4a02-8c18-a28311315af7"
      },
      "outputs": [
        {
          "name": "stdout",
          "output_type": "stream",
          "text": [
            "[[196   5]\n",
            " [  6  18]]\n",
            "=======================================\n",
            "              precision    recall  f1-score   support\n",
            "\n",
            "           0       0.97      0.98      0.97       201\n",
            "           1       0.78      0.75      0.77        24\n",
            "\n",
            "    accuracy                           0.95       225\n",
            "   macro avg       0.88      0.86      0.87       225\n",
            "weighted avg       0.95      0.95      0.95       225\n",
            "\n",
            "0.9511111111111111\n"
          ]
        }
      ],
      "source": [
        "clf4 = RandomForestClassifier(random_state=4)\n",
        "clf4.fit(X_train, y_train)\n",
        "\n",
        "y_predict = clf4.predict(X_test)\n",
        "\n",
        "cf_matrix = confusion_matrix(y_test, y_predict)\n",
        "\n",
        "print(cf_matrix)\n",
        "print(\"=======================================\")\n",
        "print(classification_report(y_test, y_predict)) \n",
        "print(accuracy_score(y_test, y_predict)) "
      ]
    },
    {
      "cell_type": "code",
      "execution_count": 31,
      "metadata": {
        "id": "rhxMuagy8t_Y"
      },
      "outputs": [],
      "source": [
        "X_train = np.delete(X_train_or, np.argwhere(y_train_or == 4).flatten(), axis=0)\n",
        "X_test = np.delete(X_test_or, np.argwhere(y_test_or == 4).flatten(), axis=0)\n",
        "\n",
        "y_train = np.delete(y_train_or, np.argwhere(y_train_or == 4).flatten())\n",
        "y_test = np.delete(y_test_or, np.argwhere(y_test_or == 4).flatten())"
      ]
    },
    {
      "cell_type": "code",
      "execution_count": 32,
      "metadata": {
        "id": "NMnO7GMj9VJz"
      },
      "outputs": [],
      "source": [
        "y_train = np.copy(y_train)\n",
        "y_train[y_train == 5] = -1\n",
        "y_train[y_train != -1] = 0\n",
        "y_train[y_train == -1] = 1\n",
        "\n",
        "y_test = np.copy(y_test)\n",
        "y_test[y_test == 5] = -1\n",
        "y_test[y_test != -1] = 0\n",
        "y_test[y_test == -1] = 1"
      ]
    },
    {
      "cell_type": "code",
      "execution_count": 33,
      "metadata": {
        "colab": {
          "base_uri": "https://localhost:8080/"
        },
        "id": "b1jkZr3aOczV",
        "outputId": "2293e581-c31d-4adf-c21c-5e6738092a64"
      },
      "outputs": [
        {
          "name": "stdout",
          "output_type": "stream",
          "text": [
            "[[159   0]\n",
            " [  0  42]]\n",
            "=======================================\n",
            "              precision    recall  f1-score   support\n",
            "\n",
            "           0       1.00      1.00      1.00       159\n",
            "           1       1.00      1.00      1.00        42\n",
            "\n",
            "    accuracy                           1.00       201\n",
            "   macro avg       1.00      1.00      1.00       201\n",
            "weighted avg       1.00      1.00      1.00       201\n",
            "\n",
            "1.0\n"
          ]
        }
      ],
      "source": [
        "clf5 = RandomForestClassifier(random_state=0)\n",
        "clf5.fit(X_train, y_train)\n",
        "\n",
        "y_predict = clf5.predict(X_test)\n",
        "\n",
        "cf_matrix = confusion_matrix(y_test, y_predict)\n",
        "\n",
        "print(cf_matrix)\n",
        "print(\"=======================================\")\n",
        "print(classification_report(y_test, y_predict)) \n",
        "print(accuracy_score(y_test, y_predict)) "
      ]
    },
    {
      "cell_type": "code",
      "execution_count": 34,
      "metadata": {
        "id": "UAQUSnxX-cds"
      },
      "outputs": [],
      "source": [
        "X_train = np.delete(X_train_or, np.argwhere(y_train_or == 5).flatten(), axis=0)\n",
        "X_test = np.delete(X_test_or, np.argwhere(y_test_or == 5).flatten(), axis=0)\n",
        "\n",
        "y_train = np.delete(y_train_or, np.argwhere(y_train_or == 5).flatten())\n",
        "y_test = np.delete(y_test_or, np.argwhere(y_test_or == 5).flatten())\n",
        "\n",
        "X_train = np.delete(X_train, np.argwhere(y_train == 4).flatten(), axis=0)\n",
        "X_test = np.delete(X_test, np.argwhere(y_test == 4).flatten(), axis=0)\n",
        "\n",
        "y_train = np.delete(y_train, np.argwhere(y_train == 4).flatten())\n",
        "y_test = np.delete(y_test, np.argwhere(y_test == 4).flatten())"
      ]
    },
    {
      "cell_type": "code",
      "execution_count": 35,
      "metadata": {
        "colab": {
          "base_uri": "https://localhost:8080/"
        },
        "id": "Nt7K1CX6-x1L",
        "outputId": "fdde499a-810c-4e4e-c966-dd09024ff8f6"
      },
      "outputs": [
        {
          "data": {
            "text/plain": [
              "array([6, 6, 0, 3, 6, 1, 6, 6, 6, 6, 6, 2, 2, 0, 0, 2, 6, 2, 6, 3, 0, 3,\n",
              "       0, 6, 2, 6, 3, 6, 6, 2, 6, 6, 6, 2, 1, 6, 0, 6, 2, 6, 6, 3, 1, 0,\n",
              "       6, 6, 6, 0, 6, 2, 2, 6, 6, 2, 0, 1, 2, 6, 2, 2, 6, 2, 2, 6, 2, 6,\n",
              "       1, 6, 6, 1, 6, 6, 6, 6, 2, 2, 1, 6, 2, 1, 2, 2, 6, 6, 2, 2, 2, 0,\n",
              "       2, 2, 6, 0, 2, 2, 6, 1, 2, 2, 6, 2, 6, 3, 0, 0, 6, 3, 3, 0, 2, 0,\n",
              "       0, 6, 1, 6, 0, 3, 3, 6, 2, 6, 2, 0, 0, 0, 3, 3, 6, 0, 6, 1, 1, 6,\n",
              "       3, 3, 2, 6, 6, 2, 2, 2, 2, 0, 0, 2, 6, 2, 2, 6, 2, 0, 0, 6, 3, 2,\n",
              "       1, 6, 0, 6, 6])"
            ]
          },
          "execution_count": 35,
          "metadata": {},
          "output_type": "execute_result"
        }
      ],
      "source": [
        "y_test"
      ]
    },
    {
      "cell_type": "code",
      "execution_count": 36,
      "metadata": {
        "id": "5JDSVJdN_U1F"
      },
      "outputs": [],
      "source": [
        "y_train = np.copy(y_train)\n",
        "y_train[y_train == 0] = -1\n",
        "y_train[y_train != -1] = 0\n",
        "y_train[y_train == -1] = 1\n",
        "\n",
        "y_test = np.copy(y_test)\n",
        "y_test[y_test == 0] = -1\n",
        "y_test[y_test != -1] = 0\n",
        "y_test[y_test == -1] = 1"
      ]
    },
    {
      "cell_type": "code",
      "execution_count": 37,
      "metadata": {
        "colab": {
          "base_uri": "https://localhost:8080/"
        },
        "id": "tcakFsRb_XTG",
        "outputId": "20585cea-5a93-48be-8265-759f9557b8c2"
      },
      "outputs": [
        {
          "name": "stdout",
          "output_type": "stream",
          "text": [
            "[[129   4]\n",
            " [  1  25]]\n",
            "=======================================\n",
            "              precision    recall  f1-score   support\n",
            "\n",
            "           0       0.99      0.97      0.98       133\n",
            "           1       0.86      0.96      0.91        26\n",
            "\n",
            "    accuracy                           0.97       159\n",
            "   macro avg       0.93      0.97      0.95       159\n",
            "weighted avg       0.97      0.97      0.97       159\n",
            "\n",
            "0.9685534591194969\n"
          ]
        }
      ],
      "source": [
        "clf0 = RandomForestClassifier(random_state=3)\n",
        "clf0.fit(X_train, y_train)\n",
        "\n",
        "y_predict = clf0.predict(X_test)\n",
        "\n",
        "cf_matrix = confusion_matrix(y_test, y_predict)\n",
        "\n",
        "print(cf_matrix)\n",
        "print(\"=======================================\")\n",
        "print(classification_report(y_test, y_predict)) \n",
        "print(accuracy_score(y_test, y_predict)) "
      ]
    },
    {
      "cell_type": "code",
      "execution_count": 38,
      "metadata": {
        "id": "Kk8L61PY_pja"
      },
      "outputs": [],
      "source": [
        "X_train = np.delete(X_train_or, np.argwhere(y_train_or == 5).flatten(), axis=0)\n",
        "X_test = np.delete(X_test_or, np.argwhere(y_test_or == 5).flatten(), axis=0)\n",
        "\n",
        "y_train = np.delete(y_train_or, np.argwhere(y_train_or == 5).flatten())\n",
        "y_test = np.delete(y_test_or, np.argwhere(y_test_or == 5).flatten())\n",
        "\n",
        "X_train = np.delete(X_train, np.argwhere(y_train == 4).flatten(), axis=0)\n",
        "X_test = np.delete(X_test, np.argwhere(y_test == 4).flatten(), axis=0)\n",
        "\n",
        "y_train = np.delete(y_train, np.argwhere(y_train == 4).flatten())\n",
        "y_test = np.delete(y_test, np.argwhere(y_test == 4).flatten())\n",
        "\n",
        "X_train = np.delete(X_train, np.argwhere(y_train == 0).flatten(), axis=0)\n",
        "X_test = np.delete(X_test, np.argwhere(y_test == 0).flatten(), axis=0)\n",
        "\n",
        "y_train = np.delete(y_train, np.argwhere(y_train == 0).flatten())\n",
        "y_test = np.delete(y_test, np.argwhere(y_test == 0).flatten())"
      ]
    },
    {
      "cell_type": "code",
      "execution_count": 39,
      "metadata": {
        "colab": {
          "base_uri": "https://localhost:8080/"
        },
        "id": "Gf6TMqdT_w_b",
        "outputId": "dc74760b-0ec4-4775-eaf5-3050871e6108"
      },
      "outputs": [
        {
          "data": {
            "text/plain": [
              "array([6, 6, 3, 6, 1, 6, 6, 6, 6, 6, 2, 2, 2, 6, 2, 6, 3, 3, 6, 2, 6, 3,\n",
              "       6, 6, 2, 6, 6, 6, 2, 1, 6, 6, 2, 6, 6, 3, 1, 6, 6, 6, 6, 2, 2, 6,\n",
              "       6, 2, 1, 2, 6, 2, 2, 6, 2, 2, 6, 2, 6, 1, 6, 6, 1, 6, 6, 6, 6, 2,\n",
              "       2, 1, 6, 2, 1, 2, 2, 6, 6, 2, 2, 2, 2, 2, 6, 2, 2, 6, 1, 2, 2, 6,\n",
              "       2, 6, 3, 6, 3, 3, 2, 6, 1, 6, 3, 3, 6, 2, 6, 2, 3, 3, 6, 6, 1, 1,\n",
              "       6, 3, 3, 2, 6, 6, 2, 2, 2, 2, 2, 6, 2, 2, 6, 2, 6, 3, 2, 1, 6, 6,\n",
              "       6])"
            ]
          },
          "execution_count": 39,
          "metadata": {},
          "output_type": "execute_result"
        }
      ],
      "source": [
        "y_test"
      ]
    },
    {
      "cell_type": "code",
      "execution_count": 40,
      "metadata": {
        "id": "vZw_q-rf_0bn"
      },
      "outputs": [],
      "source": [
        "y_train = np.copy(y_train)\n",
        "y_train[y_train == 3] = -1\n",
        "y_train[y_train != -1] = 0\n",
        "y_train[y_train == -1] = 1\n",
        "\n",
        "y_test = np.copy(y_test)\n",
        "y_test[y_test == 3] = -1\n",
        "y_test[y_test != -1] = 0\n",
        "y_test[y_test == -1] = 1"
      ]
    },
    {
      "cell_type": "code",
      "execution_count": 41,
      "metadata": {
        "colab": {
          "base_uri": "https://localhost:8080/"
        },
        "id": "aPTcJIDQAB8_",
        "outputId": "445784ef-be6a-45b8-bb89-7f1e768c5c98"
      },
      "outputs": [
        {
          "name": "stdout",
          "output_type": "stream",
          "text": [
            "[[118   0]\n",
            " [  5  10]]\n",
            "=======================================\n",
            "              precision    recall  f1-score   support\n",
            "\n",
            "           0       0.96      1.00      0.98       118\n",
            "           1       1.00      0.67      0.80        15\n",
            "\n",
            "    accuracy                           0.96       133\n",
            "   macro avg       0.98      0.83      0.89       133\n",
            "weighted avg       0.96      0.96      0.96       133\n",
            "\n",
            "0.9624060150375939\n"
          ]
        }
      ],
      "source": [
        "clf3 = RandomForestClassifier(random_state=3)\n",
        "clf3.fit(X_train, y_train)\n",
        "\n",
        "y_predict = clf3.predict(X_test)\n",
        "\n",
        "cf_matrix = confusion_matrix(y_test, y_predict)\n",
        "\n",
        "print(cf_matrix)\n",
        "print(\"=======================================\")\n",
        "print(classification_report(y_test, y_predict)) \n",
        "print(accuracy_score(y_test, y_predict)) "
      ]
    },
    {
      "cell_type": "code",
      "execution_count": 47,
      "metadata": {
        "id": "IDg7Uyx5BRVJ"
      },
      "outputs": [],
      "source": [
        "X_train = np.delete(X_train_or, np.argwhere(y_train_or == 5).flatten(), axis=0)\n",
        "X_test = np.delete(X_test_or, np.argwhere(y_test_or == 5).flatten(), axis=0)\n",
        "\n",
        "y_train = np.delete(y_train_or, np.argwhere(y_train_or == 5).flatten())\n",
        "y_test = np.delete(y_test_or, np.argwhere(y_test_or == 5).flatten())\n",
        "\n",
        "X_train = np.delete(X_train, np.argwhere(y_train == 4).flatten(), axis=0)\n",
        "X_test = np.delete(X_test, np.argwhere(y_test == 4).flatten(), axis=0)\n",
        "\n",
        "y_train = np.delete(y_train, np.argwhere(y_train == 4).flatten())\n",
        "y_test = np.delete(y_test, np.argwhere(y_test == 4).flatten())\n",
        "\n",
        "X_train = np.delete(X_train, np.argwhere(y_train == 0).flatten(), axis=0)\n",
        "X_test = np.delete(X_test, np.argwhere(y_test == 0).flatten(), axis=0)\n",
        "\n",
        "y_train = np.delete(y_train, np.argwhere(y_train == 0).flatten())\n",
        "y_test = np.delete(y_test, np.argwhere(y_test == 0).flatten())\n",
        "\n",
        "X_train = np.delete(X_train, np.argwhere(y_train == 3).flatten(), axis=0)\n",
        "X_test = np.delete(X_test, np.argwhere(y_test == 3).flatten(), axis=0)\n",
        "\n",
        "y_train = np.delete(y_train, np.argwhere(y_train == 3).flatten())\n",
        "y_test = np.delete(y_test, np.argwhere(y_test == 3).flatten())"
      ]
    },
    {
      "cell_type": "code",
      "execution_count": 48,
      "metadata": {
        "colab": {
          "base_uri": "https://localhost:8080/"
        },
        "id": "WjCOnJY2BXVj",
        "outputId": "d62c0fed-951a-4e79-ceba-eb55191bb949"
      },
      "outputs": [
        {
          "data": {
            "text/plain": [
              "array([6, 6, 6, 1, 6, 6, 6, 6, 6, 2, 2, 2, 6, 2, 6, 6, 2, 6, 6, 6, 2, 6,\n",
              "       6, 6, 2, 1, 6, 6, 2, 6, 6, 1, 6, 6, 6, 6, 2, 2, 6, 6, 2, 1, 2, 6,\n",
              "       2, 2, 6, 2, 2, 6, 2, 6, 1, 6, 6, 1, 6, 6, 6, 6, 2, 2, 1, 6, 2, 1,\n",
              "       2, 2, 6, 6, 2, 2, 2, 2, 2, 6, 2, 2, 6, 1, 2, 2, 6, 2, 6, 6, 2, 6,\n",
              "       1, 6, 6, 2, 6, 2, 6, 6, 1, 1, 6, 2, 6, 6, 2, 2, 2, 2, 2, 6, 2, 2,\n",
              "       6, 2, 6, 2, 1, 6, 6, 6])"
            ]
          },
          "execution_count": 48,
          "metadata": {},
          "output_type": "execute_result"
        }
      ],
      "source": [
        "y_test"
      ]
    },
    {
      "cell_type": "code",
      "execution_count": 49,
      "metadata": {
        "id": "-8bWno7XBbrU"
      },
      "outputs": [],
      "source": [
        "y_train = np.copy(y_train)\n",
        "y_train[y_train == 1] = -1\n",
        "y_train[y_train != -1] = 0\n",
        "y_train[y_train == -1] = 1\n",
        "\n",
        "y_test = np.copy(y_test)\n",
        "y_test[y_test == 1] = -1\n",
        "y_test[y_test != -1] = 0\n",
        "y_test[y_test == -1] = 1"
      ]
    },
    {
      "cell_type": "code",
      "execution_count": 50,
      "metadata": {
        "colab": {
          "base_uri": "https://localhost:8080/"
        },
        "id": "zXtM86OFBfEo",
        "outputId": "a5079a8d-067e-4fe8-c9c0-fb1918ff30b0"
      },
      "outputs": [
        {
          "name": "stdout",
          "output_type": "stream",
          "text": [
            "[[105   0]\n",
            " [  0  13]]\n",
            "=======================================\n",
            "              precision    recall  f1-score   support\n",
            "\n",
            "           0       1.00      1.00      1.00       105\n",
            "           1       1.00      1.00      1.00        13\n",
            "\n",
            "    accuracy                           1.00       118\n",
            "   macro avg       1.00      1.00      1.00       118\n",
            "weighted avg       1.00      1.00      1.00       118\n",
            "\n",
            "1.0\n"
          ]
        }
      ],
      "source": [
        "clf1 = LinearDiscriminantAnalysis()\n",
        "clf1.fit(X_train, y_train)\n",
        "\n",
        "y_predict = clf1.predict(X_test)\n",
        "\n",
        "cf_matrix = confusion_matrix(y_test, y_predict)\n",
        "\n",
        "print(cf_matrix)\n",
        "print(\"=======================================\")\n",
        "print(classification_report(y_test, y_predict)) \n",
        "print(accuracy_score(y_test, y_predict)) "
      ]
    },
    {
      "cell_type": "code",
      "execution_count": 51,
      "metadata": {
        "id": "-g4nY23RC0PL"
      },
      "outputs": [],
      "source": [
        "X_train = np.delete(X_train_or, np.argwhere(y_train_or == 5).flatten(), axis=0)\n",
        "X_test = np.delete(X_test_or, np.argwhere(y_test_or == 5).flatten(), axis=0)\n",
        "\n",
        "y_train = np.delete(y_train_or, np.argwhere(y_train_or == 5).flatten())\n",
        "y_test = np.delete(y_test_or, np.argwhere(y_test_or == 5).flatten())\n",
        "\n",
        "X_train = np.delete(X_train, np.argwhere(y_train == 0).flatten(), axis=0)\n",
        "X_test = np.delete(X_test, np.argwhere(y_test == 0).flatten(), axis=0)\n",
        "\n",
        "y_train = np.delete(y_train, np.argwhere(y_train == 0).flatten())\n",
        "y_test = np.delete(y_test, np.argwhere(y_test == 0).flatten())\n",
        "\n",
        "X_train = np.delete(X_train, np.argwhere(y_train == 1).flatten(), axis=0)\n",
        "X_test = np.delete(X_test, np.argwhere(y_test == 1).flatten(), axis=0)\n",
        "\n",
        "y_train = np.delete(y_train, np.argwhere(y_train == 1).flatten())\n",
        "y_test = np.delete(y_test, np.argwhere(y_test == 1).flatten())\n",
        "\n",
        "X_train = np.delete(X_train, np.argwhere(y_train == 3).flatten(), axis=0)\n",
        "X_test = np.delete(X_test, np.argwhere(y_test == 3).flatten(), axis=0)\n",
        "\n",
        "y_train = np.delete(y_train, np.argwhere(y_train == 3).flatten())\n",
        "y_test = np.delete(y_test, np.argwhere(y_test == 3).flatten())\n",
        "\n",
        "X_train = np.delete(X_train, np.argwhere(y_train == 4).flatten(), axis=0)\n",
        "X_test = np.delete(X_test, np.argwhere(y_test == 4).flatten(), axis=0)\n",
        "\n",
        "y_train = np.delete(y_train, np.argwhere(y_train == 4).flatten())\n",
        "y_test = np.delete(y_test, np.argwhere(y_test == 4).flatten())"
      ]
    },
    {
      "cell_type": "code",
      "execution_count": 52,
      "metadata": {
        "colab": {
          "base_uri": "https://localhost:8080/"
        },
        "id": "lrbBiQzYDByq",
        "outputId": "55e1a6da-262f-42b0-96bf-298494871501"
      },
      "outputs": [
        {
          "data": {
            "text/plain": [
              "array([6, 6, 6, 6, 6, 6, 6, 6, 2, 2, 2, 6, 2, 6, 6, 2, 6, 6, 6, 2, 6, 6,\n",
              "       6, 2, 6, 6, 2, 6, 6, 6, 6, 6, 6, 2, 2, 6, 6, 2, 2, 6, 2, 2, 6, 2,\n",
              "       2, 6, 2, 6, 6, 6, 6, 6, 6, 6, 2, 2, 6, 2, 2, 2, 6, 6, 2, 2, 2, 2,\n",
              "       2, 6, 2, 2, 6, 2, 2, 6, 2, 6, 6, 2, 6, 6, 6, 2, 6, 2, 6, 6, 6, 2,\n",
              "       6, 6, 2, 2, 2, 2, 2, 6, 2, 2, 6, 2, 6, 2, 6, 6, 6])"
            ]
          },
          "execution_count": 52,
          "metadata": {},
          "output_type": "execute_result"
        }
      ],
      "source": [
        "y_test"
      ]
    },
    {
      "cell_type": "code",
      "execution_count": 53,
      "metadata": {
        "colab": {
          "base_uri": "https://localhost:8080/"
        },
        "id": "vKy1hweaC_3p",
        "outputId": "d619676b-203a-4a07-90ad-5ee63d62d394"
      },
      "outputs": [
        {
          "name": "stdout",
          "output_type": "stream",
          "text": [
            "[[45  0]\n",
            " [ 0 60]]\n",
            "=======================================\n",
            "              precision    recall  f1-score   support\n",
            "\n",
            "           2       1.00      1.00      1.00        45\n",
            "           6       1.00      1.00      1.00        60\n",
            "\n",
            "    accuracy                           1.00       105\n",
            "   macro avg       1.00      1.00      1.00       105\n",
            "weighted avg       1.00      1.00      1.00       105\n",
            "\n",
            "1.0\n"
          ]
        }
      ],
      "source": [
        "clf_last = LinearDiscriminantAnalysis()\n",
        "clf_last.fit(X_train, y_train)\n",
        "\n",
        "y_predict = clf_last.predict(X_test)\n",
        "\n",
        "cf_matrix = confusion_matrix(y_test, y_predict)\n",
        "\n",
        "print(cf_matrix)\n",
        "print(\"=======================================\")\n",
        "print(classification_report(y_test, y_predict)) \n",
        "print(accuracy_score(y_test, y_predict)) "
      ]
    },
    {
      "cell_type": "code",
      "execution_count": 54,
      "metadata": {
        "colab": {
          "base_uri": "https://localhost:8080/"
        },
        "id": "zplFJC9cDP_c",
        "outputId": "7ec7bdeb-3aaf-4fc0-d534-41dd7c3f9418"
      },
      "outputs": [
        {
          "data": {
            "text/plain": [
              "array([6])"
            ]
          },
          "execution_count": 54,
          "metadata": {},
          "output_type": "execute_result"
        }
      ],
      "source": [
        "clf_last.predict(X_test[3].reshape(1, -1))"
      ]
    },
    {
      "cell_type": "code",
      "execution_count": 55,
      "metadata": {
        "id": "KnqvHr0zDuoy"
      },
      "outputs": [],
      "source": [
        "y_pred = []\n",
        "for yl in X_test_or:\n",
        "  if clf4.predict(yl.reshape(1, -1))[0] == 1:\n",
        "    y_pred.append(4)\n",
        "    continue\n",
        "  else:\n",
        "    if clf5.predict(yl.reshape(1, -1))[0] == 1:\n",
        "      y_pred.append(5)\n",
        "      continue\n",
        "    else: \n",
        "      if clf0.predict(yl.reshape(1, -1))[0] == 1:\n",
        "        y_pred.append(0)\n",
        "        continue\n",
        "      else:\n",
        "        if clf3.predict(yl.reshape(1, -1))[0] == 1:\n",
        "          y_pred.append(3)\n",
        "          continue      \n",
        "        else:\n",
        "          if clf1.predict(yl.reshape(1, -1))[0] == 1:\n",
        "            y_pred.append(1)\n",
        "            continue\n",
        "          else:\n",
        "            y_pred.append(clf_last.predict(yl.reshape(1, -1))[0])\n",
        "            continue"
      ]
    },
    {
      "cell_type": "code",
      "execution_count": 56,
      "metadata": {
        "id": "zki7Kx9QGR-Y"
      },
      "outputs": [],
      "source": [
        "y_pred = np.array(y_pred)"
      ]
    },
    {
      "cell_type": "code",
      "execution_count": 57,
      "metadata": {
        "colab": {
          "base_uri": "https://localhost:8080/"
        },
        "id": "CzfU9d19FuFK",
        "outputId": "3ed44d86-0927-40aa-f28b-3dcc0e05e21b"
      },
      "outputs": [
        {
          "name": "stdout",
          "output_type": "stream",
          "text": [
            "0.9111111111111111\n"
          ]
        }
      ],
      "source": [
        "print(accuracy_score(y_test_or, y_pred)) "
      ]
    },
    {
      "cell_type": "markdown",
      "metadata": {
        "id": "uZnYo-vuGWZC"
      },
      "source": [
        "The Algorithm\n"
      ]
    },
    {
      "cell_type": "markdown",
      "metadata": {
        "id": "Oz6IkYCxmOp_"
      },
      "source": [
        "Methods: highestF1 imbalance"
      ]
    },
    {
      "cell_type": "code",
      "execution_count": 65,
      "metadata": {
        "id": "SXrIVbvSrTvF"
      },
      "outputs": [],
      "source": [
        "class MultipleSimplificationLearner():\n",
        "\n",
        "  def __init__(self, classifiers: list, mode: string) -> None:\n",
        "    self.classifiers = classifiers\n",
        "    self.mode = mode\n",
        "    self.models = []\n",
        "    self.ycls = set(y)\n",
        "    self.X_train = np.array([]) \n",
        "    self.X_test = np.array([])\n",
        "    self.y_train = np.array([]) \n",
        "    self.y_test = np.array([])\n",
        "    self.classifier_list = []\n",
        "    self.class_list = []\n",
        "\n",
        "  def one_vs_rest(self, ycl: int, y_train, y_test):\n",
        "    y_train_0 = np.copy(y_train)\n",
        "    y_train_0[y_train_0 == ycl] = -1\n",
        "    y_train_0[y_train_0 != -1] = 0\n",
        "    y_train_0[y_train_0 == -1] = 1\n",
        "\n",
        "    y_test_0 = np.copy(y_test)\n",
        "    y_test_0[y_test_0 == ycl] = -1\n",
        "    y_test_0[y_test_0 != -1] = 0\n",
        "    y_test_0[y_test_0 == -1] = 1\n",
        "\n",
        "    return y_train_0, y_test_0\n",
        "\n",
        "  def remove_classes(self, cls: list, X_train, X_test, y_train, y_test):\n",
        "    X_train_0 = np.copy(X_train)\n",
        "    X_test_0 = np.copy(X_test)\n",
        "    y_train_0 = np.copy(y_train)\n",
        "    y_test_0 = np.copy(y_test)\n",
        "\n",
        "    for cl in cls:\n",
        "      X_train_0 = np.delete(X_train_0, np.argwhere(y_train_0 == cl).flatten(), axis=0)\n",
        "      X_test_0 = np.delete(X_test_0, np.argwhere(y_test_0 == cl).flatten(), axis=0)\n",
        "\n",
        "      y_train_0 = np.delete(y_train_0, np.argwhere(y_train_0 == cl).flatten())\n",
        "      y_test_0 = np.delete(y_test_0, np.argwhere(y_test_0 == cl).flatten())\n",
        "\n",
        "    return X_train_0, X_test_0, y_train_0, y_test_0\n",
        "\n",
        "\n",
        "  def fit(self, X: np.ndarray, y: np.ndarray):\n",
        "  \n",
        "    self.X_train, self.X_test, self.y_train, self.y_test = train_test_split(X, y, test_size=0.25, random_state=42)\n",
        "\n",
        "    self.models = []\n",
        "\n",
        "    self.ycls = set(y)\n",
        "    \n",
        "    if self.mode == \"highestF1\":\n",
        "      return self.highestF1_fit()\n",
        "    if self.mode == \"imbalance\":\n",
        "      return self.imbalance_fit()\n",
        "\n",
        "    print(\"Wrong method!\")\n",
        "\n",
        "  def imbalance_fit(self):\n",
        "\n",
        "    count_ycl = 0\n",
        "    acc = 0.0\n",
        "\n",
        "    X_train_0 = self.X_train\n",
        "    X_test_0 = self.X_test\n",
        "    y_train_0 = self.y_train\n",
        "    y_test_0 = self.y_test\n",
        "\n",
        "    ycls = self.ycls.copy()\n",
        "\n",
        "\n",
        "    while len(ycls) > 2:\n",
        "\n",
        "      X_train, X_test, y_train, y_test = self.remove_classes(self.class_list, X_train_0, X_test_0, y_train_0, y_test_0)\n",
        "\n",
        "      for ycl in ycls:\n",
        "\n",
        "        if count_ycl <  np.count_nonzero(y_train == ycl) + np.count_nonzero(y_test == ycl):\n",
        "          count_ycl = np.count_nonzero(y_train == ycl) + np.count_nonzero(y_test == ycl)\n",
        "          ycln = ycl\n",
        "\n",
        "      count_ycl = 0\n",
        "\n",
        "      for classifier in self.classifiers:\n",
        "        if acc == 1.0:\n",
        "          break\n",
        "        current_classifier = deepcopy(classifier)\n",
        "        current_classifier.fit(X_train, y_train)\n",
        "        y_predict = current_classifier.predict(X_test)\n",
        "        accscore = f1_score(y_test, y_predict,pos_label= min(y_test))\n",
        "\n",
        "        if acc < accscore:\n",
        "          acc = accscore\n",
        "          cl = current_classifier\n",
        "          ycln = ycl\n",
        "\n",
        "      ycls.remove(ycln)\n",
        "      acc = 0.0 \n",
        "      self.classifier_list.append(cl)\n",
        "      self.class_list.append(ycln)\n",
        "\n",
        "\n",
        "\n",
        "    X_train, X_test, y_train, y_test = self.remove_classes(self.class_list, X_train_0, X_test_0, y_train_0, y_test_0)\n",
        "  \n",
        "    for classifier in self.classifiers:\n",
        "      current_classifier = deepcopy(classifier)\n",
        "\n",
        "      current_classifier.fit(X_train, y_train)\n",
        "      y_predict = current_classifier.predict(X_test)\n",
        "\n",
        "      accscore = f1_score(y_test, y_predict,pos_label= min(y_test))\n",
        "\n",
        "      if acc < accscore:\n",
        "        acc = accscore\n",
        "        cl = current_classifier\n",
        "\n",
        "    self.classifier_list.append(cl)\n",
        "\n",
        "    return \n",
        "\n",
        "\n",
        "  def highestF1_fit(self):\n",
        "\n",
        "    acc = 0.0\n",
        "\n",
        "    X_train_0 = self.X_train\n",
        "    X_test_0 = self.X_test\n",
        "    y_train_0 = self.y_train\n",
        "    y_test_0 = self.y_test\n",
        "\n",
        "    ycls = self.ycls.copy()\n",
        "\n",
        "    while len(ycls) > 2:\n",
        "\n",
        "      for ycl in ycls:\n",
        "\n",
        "        X_train, X_test, y_train, y_test = self.remove_classes(self.class_list, X_train_0, X_test_0, y_train_0, y_test_0)\n",
        "\n",
        "        y_train, y_test = self.one_vs_rest(ycl, y_train, y_test)\n",
        "      \n",
        "        for classifier in self.classifiers:\n",
        "          if acc == 1.0:\n",
        "            break\n",
        "          current_classifier = deepcopy(classifier)\n",
        "          current_classifier.fit(X_train, y_train)\n",
        "          y_predict = current_classifier.predict(X_test)\n",
        "          accscore = f1_score(y_test, y_predict,pos_label= min(y_test))\n",
        "\n",
        "          if acc < accscore:\n",
        "            acc = accscore\n",
        "            cl = current_classifier\n",
        "            ycln = ycl\n",
        "          \n",
        " \n",
        "      ycls.remove(ycln)\n",
        "      acc = 0.0 \n",
        "      self.classifier_list.append(cl)\n",
        "      self.class_list.append(ycln)\n",
        "\n",
        "    X_train, X_test, y_train, y_test = self.remove_classes(self.class_list, X_train_0, X_test_0, y_train_0, y_test_0)\n",
        "    \n",
        "    for classifier in self.classifiers:\n",
        "      current_classifier = deepcopy(classifier)\n",
        "\n",
        "      current_classifier.fit(X_train, y_train)\n",
        "      y_predict = current_classifier.predict(X_test)\n",
        "\n",
        "      accscore = f1_score(y_test, y_predict, pos_label= min(y_test))\n",
        "\n",
        "      if acc < accscore:\n",
        "        acc = accscore\n",
        "        cl = current_classifier\n",
        "\n",
        "    self.classifier_list.append(cl)\n",
        "\n",
        "    return\n",
        "\n",
        " \n",
        "  def predict(self, X_pred: np.ndarray):\n",
        "    y_pred = []\n",
        "\n",
        "    cont = 0\n",
        "    for x_p in X_pred:\n",
        "\n",
        "      for cln in range(len(self.classifier_list)-1):\n",
        "        pred = self.classifier_list[cln].predict(x_p.reshape(1, -1))\n",
        "        if pred == 1:\n",
        "          y_pred.append(self.class_list[cln])\n",
        "          cont = 1\n",
        "          break\n",
        "\n",
        "      if cont == 0:\n",
        "        pred = self.classifier_list[-1].predict(x_p.reshape(1, -1))[0]\n",
        "        y_pred.append(pred)\n",
        "      cont = 0\n",
        "    return np.array(y_pred)\n",
        "\n",
        "\n"
      ]
    },
    {
      "cell_type": "code",
      "execution_count": 66,
      "metadata": {
        "id": "Zim4sQHvob63"
      },
      "outputs": [],
      "source": [
        "classifiers = [SVC(kernel='poly'),\n",
        "               RandomForestClassifier(n_estimators=100, random_state=0), \n",
        "               GaussianNB()]"
      ]
    },
    {
      "cell_type": "markdown",
      "metadata": {
        "id": "7LEWfcrse6nf"
      },
      "source": [
        "Wine"
      ]
    },
    {
      "cell_type": "code",
      "execution_count": 67,
      "metadata": {
        "id": "tb0R-fqdoIiT"
      },
      "outputs": [],
      "source": [
        "data = load_wine()\n",
        "X = data.data\n",
        "y = data.target\n",
        "\n",
        "X_train, X_test, y_train, y_test = train_test_split(X, y, test_size=0.25, random_state=42)"
      ]
    },
    {
      "cell_type": "code",
      "execution_count": 68,
      "metadata": {
        "colab": {
          "base_uri": "https://localhost:8080/"
        },
        "id": "0nnZmdIEopYX",
        "outputId": "24df504f-8d0c-4661-aa90-fe2efb850cc3"
      },
      "outputs": [
        {
          "name": "stdout",
          "output_type": "stream",
          "text": [
            "[0 0 2 0 1 0 1 2 1 2 0 2 0 1 0 1 1 1 0 1 0 1 1 2 2 2 1 1 1 0 0 1 2 0 0 0 2\n",
            " 2 1 2 0 1 1 1 2]\n",
            "[0 0 2 0 1 0 1 2 1 2 0 2 0 1 0 1 1 1 0 1 0 1 1 2 2 2 1 1 1 0 0 1 2 0 0 0 2\n",
            " 2 1 2 0 1 1 1 2]\n",
            "1.0\n"
          ]
        }
      ],
      "source": [
        "model = MultipleSimplificationLearner(classifiers,\"highestF1\")\n",
        "\n",
        "model.fit(X, y)\n",
        "\n",
        "y_pred = model.predict(X_test)\n",
        "\n",
        "\n",
        "print((y_pred))\n",
        "print((y_test))\n",
        "print(accuracy_score(y_test, y_pred)) "
      ]
    },
    {
      "cell_type": "markdown",
      "metadata": {
        "id": "Eorj2hTMe91u"
      },
      "source": [
        "Date Fruit"
      ]
    },
    {
      "cell_type": "code",
      "execution_count": 69,
      "metadata": {
        "colab": {
          "base_uri": "https://localhost:8080/",
          "height": 300
        },
        "id": "nTXuJg2we5HS",
        "outputId": "ad7eecb0-7f8b-4da8-fb3f-2e9e77c6144f"
      },
      "outputs": [
        {
          "data": {
            "text/html": [
              "\n",
              "  <div id=\"df-0405f75f-7901-4305-943e-e3e86c167ba5\">\n",
              "    <div class=\"colab-df-container\">\n",
              "      <div>\n",
              "<style scoped>\n",
              "    .dataframe tbody tr th:only-of-type {\n",
              "        vertical-align: middle;\n",
              "    }\n",
              "\n",
              "    .dataframe tbody tr th {\n",
              "        vertical-align: top;\n",
              "    }\n",
              "\n",
              "    .dataframe thead th {\n",
              "        text-align: right;\n",
              "    }\n",
              "</style>\n",
              "<table border=\"1\" class=\"dataframe\">\n",
              "  <thead>\n",
              "    <tr style=\"text-align: right;\">\n",
              "      <th></th>\n",
              "      <th>AREA</th>\n",
              "      <th>PERIMETER</th>\n",
              "      <th>MAJOR_AXIS</th>\n",
              "      <th>MINOR_AXIS</th>\n",
              "      <th>ECCENTRICITY</th>\n",
              "      <th>EQDIASQ</th>\n",
              "      <th>SOLIDITY</th>\n",
              "      <th>CONVEX_AREA</th>\n",
              "      <th>EXTENT</th>\n",
              "      <th>ASPECT_RATIO</th>\n",
              "      <th>...</th>\n",
              "      <th>KurtosisRR</th>\n",
              "      <th>KurtosisRG</th>\n",
              "      <th>KurtosisRB</th>\n",
              "      <th>EntropyRR</th>\n",
              "      <th>EntropyRG</th>\n",
              "      <th>EntropyRB</th>\n",
              "      <th>ALLdaub4RR</th>\n",
              "      <th>ALLdaub4RG</th>\n",
              "      <th>ALLdaub4RB</th>\n",
              "      <th>Class</th>\n",
              "    </tr>\n",
              "  </thead>\n",
              "  <tbody>\n",
              "    <tr>\n",
              "      <th>0</th>\n",
              "      <td>422163</td>\n",
              "      <td>2378.908</td>\n",
              "      <td>837.8484</td>\n",
              "      <td>645.6693</td>\n",
              "      <td>0.6373</td>\n",
              "      <td>733.1539</td>\n",
              "      <td>0.9947</td>\n",
              "      <td>424428</td>\n",
              "      <td>0.7831</td>\n",
              "      <td>1.2976</td>\n",
              "      <td>...</td>\n",
              "      <td>3.2370</td>\n",
              "      <td>2.9574</td>\n",
              "      <td>4.2287</td>\n",
              "      <td>-59191263232</td>\n",
              "      <td>-50714214400</td>\n",
              "      <td>-39922372608</td>\n",
              "      <td>58.7255</td>\n",
              "      <td>54.9554</td>\n",
              "      <td>47.8400</td>\n",
              "      <td>BERHI</td>\n",
              "    </tr>\n",
              "    <tr>\n",
              "      <th>1</th>\n",
              "      <td>338136</td>\n",
              "      <td>2085.144</td>\n",
              "      <td>723.8198</td>\n",
              "      <td>595.2073</td>\n",
              "      <td>0.5690</td>\n",
              "      <td>656.1464</td>\n",
              "      <td>0.9974</td>\n",
              "      <td>339014</td>\n",
              "      <td>0.7795</td>\n",
              "      <td>1.2161</td>\n",
              "      <td>...</td>\n",
              "      <td>2.6228</td>\n",
              "      <td>2.6350</td>\n",
              "      <td>3.1704</td>\n",
              "      <td>-34233065472</td>\n",
              "      <td>-37462601728</td>\n",
              "      <td>-31477794816</td>\n",
              "      <td>50.0259</td>\n",
              "      <td>52.8168</td>\n",
              "      <td>47.8315</td>\n",
              "      <td>BERHI</td>\n",
              "    </tr>\n",
              "    <tr>\n",
              "      <th>2</th>\n",
              "      <td>526843</td>\n",
              "      <td>2647.394</td>\n",
              "      <td>940.7379</td>\n",
              "      <td>715.3638</td>\n",
              "      <td>0.6494</td>\n",
              "      <td>819.0222</td>\n",
              "      <td>0.9962</td>\n",
              "      <td>528876</td>\n",
              "      <td>0.7657</td>\n",
              "      <td>1.3150</td>\n",
              "      <td>...</td>\n",
              "      <td>3.7516</td>\n",
              "      <td>3.8611</td>\n",
              "      <td>4.7192</td>\n",
              "      <td>-93948354560</td>\n",
              "      <td>-74738221056</td>\n",
              "      <td>-60311207936</td>\n",
              "      <td>65.4772</td>\n",
              "      <td>59.2860</td>\n",
              "      <td>51.9378</td>\n",
              "      <td>BERHI</td>\n",
              "    </tr>\n",
              "    <tr>\n",
              "      <th>3</th>\n",
              "      <td>416063</td>\n",
              "      <td>2351.210</td>\n",
              "      <td>827.9804</td>\n",
              "      <td>645.2988</td>\n",
              "      <td>0.6266</td>\n",
              "      <td>727.8378</td>\n",
              "      <td>0.9948</td>\n",
              "      <td>418255</td>\n",
              "      <td>0.7759</td>\n",
              "      <td>1.2831</td>\n",
              "      <td>...</td>\n",
              "      <td>5.0401</td>\n",
              "      <td>8.6136</td>\n",
              "      <td>8.2618</td>\n",
              "      <td>-32074307584</td>\n",
              "      <td>-32060925952</td>\n",
              "      <td>-29575010304</td>\n",
              "      <td>43.3900</td>\n",
              "      <td>44.1259</td>\n",
              "      <td>41.1882</td>\n",
              "      <td>BERHI</td>\n",
              "    </tr>\n",
              "    <tr>\n",
              "      <th>4</th>\n",
              "      <td>347562</td>\n",
              "      <td>2160.354</td>\n",
              "      <td>763.9877</td>\n",
              "      <td>582.8359</td>\n",
              "      <td>0.6465</td>\n",
              "      <td>665.2291</td>\n",
              "      <td>0.9908</td>\n",
              "      <td>350797</td>\n",
              "      <td>0.7569</td>\n",
              "      <td>1.3108</td>\n",
              "      <td>...</td>\n",
              "      <td>2.7016</td>\n",
              "      <td>2.9761</td>\n",
              "      <td>4.4146</td>\n",
              "      <td>-39980974080</td>\n",
              "      <td>-35980042240</td>\n",
              "      <td>-25593278464</td>\n",
              "      <td>52.7743</td>\n",
              "      <td>50.9080</td>\n",
              "      <td>42.6666</td>\n",
              "      <td>BERHI</td>\n",
              "    </tr>\n",
              "  </tbody>\n",
              "</table>\n",
              "<p>5 rows × 35 columns</p>\n",
              "</div>\n",
              "      <button class=\"colab-df-convert\" onclick=\"convertToInteractive('df-0405f75f-7901-4305-943e-e3e86c167ba5')\"\n",
              "              title=\"Convert this dataframe to an interactive table.\"\n",
              "              style=\"display:none;\">\n",
              "        \n",
              "  <svg xmlns=\"http://www.w3.org/2000/svg\" height=\"24px\"viewBox=\"0 0 24 24\"\n",
              "       width=\"24px\">\n",
              "    <path d=\"M0 0h24v24H0V0z\" fill=\"none\"/>\n",
              "    <path d=\"M18.56 5.44l.94 2.06.94-2.06 2.06-.94-2.06-.94-.94-2.06-.94 2.06-2.06.94zm-11 1L8.5 8.5l.94-2.06 2.06-.94-2.06-.94L8.5 2.5l-.94 2.06-2.06.94zm10 10l.94 2.06.94-2.06 2.06-.94-2.06-.94-.94-2.06-.94 2.06-2.06.94z\"/><path d=\"M17.41 7.96l-1.37-1.37c-.4-.4-.92-.59-1.43-.59-.52 0-1.04.2-1.43.59L10.3 9.45l-7.72 7.72c-.78.78-.78 2.05 0 2.83L4 21.41c.39.39.9.59 1.41.59.51 0 1.02-.2 1.41-.59l7.78-7.78 2.81-2.81c.8-.78.8-2.07 0-2.86zM5.41 20L4 18.59l7.72-7.72 1.47 1.35L5.41 20z\"/>\n",
              "  </svg>\n",
              "      </button>\n",
              "      \n",
              "  <style>\n",
              "    .colab-df-container {\n",
              "      display:flex;\n",
              "      flex-wrap:wrap;\n",
              "      gap: 12px;\n",
              "    }\n",
              "\n",
              "    .colab-df-convert {\n",
              "      background-color: #E8F0FE;\n",
              "      border: none;\n",
              "      border-radius: 50%;\n",
              "      cursor: pointer;\n",
              "      display: none;\n",
              "      fill: #1967D2;\n",
              "      height: 32px;\n",
              "      padding: 0 0 0 0;\n",
              "      width: 32px;\n",
              "    }\n",
              "\n",
              "    .colab-df-convert:hover {\n",
              "      background-color: #E2EBFA;\n",
              "      box-shadow: 0px 1px 2px rgba(60, 64, 67, 0.3), 0px 1px 3px 1px rgba(60, 64, 67, 0.15);\n",
              "      fill: #174EA6;\n",
              "    }\n",
              "\n",
              "    [theme=dark] .colab-df-convert {\n",
              "      background-color: #3B4455;\n",
              "      fill: #D2E3FC;\n",
              "    }\n",
              "\n",
              "    [theme=dark] .colab-df-convert:hover {\n",
              "      background-color: #434B5C;\n",
              "      box-shadow: 0px 1px 3px 1px rgba(0, 0, 0, 0.15);\n",
              "      filter: drop-shadow(0px 1px 2px rgba(0, 0, 0, 0.3));\n",
              "      fill: #FFFFFF;\n",
              "    }\n",
              "  </style>\n",
              "\n",
              "      <script>\n",
              "        const buttonEl =\n",
              "          document.querySelector('#df-0405f75f-7901-4305-943e-e3e86c167ba5 button.colab-df-convert');\n",
              "        buttonEl.style.display =\n",
              "          google.colab.kernel.accessAllowed ? 'block' : 'none';\n",
              "\n",
              "        async function convertToInteractive(key) {\n",
              "          const element = document.querySelector('#df-0405f75f-7901-4305-943e-e3e86c167ba5');\n",
              "          const dataTable =\n",
              "            await google.colab.kernel.invokeFunction('convertToInteractive',\n",
              "                                                     [key], {});\n",
              "          if (!dataTable) return;\n",
              "\n",
              "          const docLinkHtml = 'Like what you see? Visit the ' +\n",
              "            '<a target=\"_blank\" href=https://colab.research.google.com/notebooks/data_table.ipynb>data table notebook</a>'\n",
              "            + ' to learn more about interactive tables.';\n",
              "          element.innerHTML = '';\n",
              "          dataTable['output_type'] = 'display_data';\n",
              "          await google.colab.output.renderOutput(dataTable, element);\n",
              "          const docLink = document.createElement('div');\n",
              "          docLink.innerHTML = docLinkHtml;\n",
              "          element.appendChild(docLink);\n",
              "        }\n",
              "      </script>\n",
              "    </div>\n",
              "  </div>\n",
              "  "
            ],
            "text/plain": [
              "     AREA  PERIMETER  MAJOR_AXIS  MINOR_AXIS  ECCENTRICITY   EQDIASQ  \\\n",
              "0  422163   2378.908    837.8484    645.6693        0.6373  733.1539   \n",
              "1  338136   2085.144    723.8198    595.2073        0.5690  656.1464   \n",
              "2  526843   2647.394    940.7379    715.3638        0.6494  819.0222   \n",
              "3  416063   2351.210    827.9804    645.2988        0.6266  727.8378   \n",
              "4  347562   2160.354    763.9877    582.8359        0.6465  665.2291   \n",
              "\n",
              "   SOLIDITY  CONVEX_AREA  EXTENT  ASPECT_RATIO  ...  KurtosisRR  KurtosisRG  \\\n",
              "0    0.9947       424428  0.7831        1.2976  ...      3.2370      2.9574   \n",
              "1    0.9974       339014  0.7795        1.2161  ...      2.6228      2.6350   \n",
              "2    0.9962       528876  0.7657        1.3150  ...      3.7516      3.8611   \n",
              "3    0.9948       418255  0.7759        1.2831  ...      5.0401      8.6136   \n",
              "4    0.9908       350797  0.7569        1.3108  ...      2.7016      2.9761   \n",
              "\n",
              "   KurtosisRB    EntropyRR    EntropyRG    EntropyRB  ALLdaub4RR  ALLdaub4RG  \\\n",
              "0      4.2287 -59191263232 -50714214400 -39922372608     58.7255     54.9554   \n",
              "1      3.1704 -34233065472 -37462601728 -31477794816     50.0259     52.8168   \n",
              "2      4.7192 -93948354560 -74738221056 -60311207936     65.4772     59.2860   \n",
              "3      8.2618 -32074307584 -32060925952 -29575010304     43.3900     44.1259   \n",
              "4      4.4146 -39980974080 -35980042240 -25593278464     52.7743     50.9080   \n",
              "\n",
              "   ALLdaub4RB  Class  \n",
              "0     47.8400  BERHI  \n",
              "1     47.8315  BERHI  \n",
              "2     51.9378  BERHI  \n",
              "3     41.1882  BERHI  \n",
              "4     42.6666  BERHI  \n",
              "\n",
              "[5 rows x 35 columns]"
            ]
          },
          "execution_count": 69,
          "metadata": {},
          "output_type": "execute_result"
        }
      ],
      "source": [
        "df=pd.read_excel(\"Date_Fruit_Datasets.xlsx\")\n",
        "df.head()"
      ]
    },
    {
      "cell_type": "code",
      "execution_count": 70,
      "metadata": {
        "colab": {
          "base_uri": "https://localhost:8080/"
        },
        "id": "1JuuTY9jinT1",
        "outputId": "d0bd2d40-6a77-4bb5-ca38-ccc4f9199a93"
      },
      "outputs": [
        {
          "name": "stderr",
          "output_type": "stream",
          "text": [
            "/usr/local/lib/python3.7/dist-packages/ipykernel_launcher.py:5: SettingWithCopyWarning: \n",
            "A value is trying to be set on a copy of a slice from a DataFrame\n",
            "\n",
            "See the caveats in the documentation: https://pandas.pydata.org/pandas-docs/stable/user_guide/indexing.html#returning-a-view-versus-a-copy\n",
            "  \"\"\"\n",
            "/usr/local/lib/python3.7/dist-packages/ipykernel_launcher.py:6: SettingWithCopyWarning: \n",
            "A value is trying to be set on a copy of a slice from a DataFrame\n",
            "\n",
            "See the caveats in the documentation: https://pandas.pydata.org/pandas-docs/stable/user_guide/indexing.html#returning-a-view-versus-a-copy\n",
            "  \n",
            "/usr/local/lib/python3.7/dist-packages/ipykernel_launcher.py:7: SettingWithCopyWarning: \n",
            "A value is trying to be set on a copy of a slice from a DataFrame\n",
            "\n",
            "See the caveats in the documentation: https://pandas.pydata.org/pandas-docs/stable/user_guide/indexing.html#returning-a-view-versus-a-copy\n",
            "  import sys\n",
            "/usr/local/lib/python3.7/dist-packages/ipykernel_launcher.py:8: SettingWithCopyWarning: \n",
            "A value is trying to be set on a copy of a slice from a DataFrame\n",
            "\n",
            "See the caveats in the documentation: https://pandas.pydata.org/pandas-docs/stable/user_guide/indexing.html#returning-a-view-versus-a-copy\n",
            "  \n",
            "/usr/local/lib/python3.7/dist-packages/ipykernel_launcher.py:9: SettingWithCopyWarning: \n",
            "A value is trying to be set on a copy of a slice from a DataFrame\n",
            "\n",
            "See the caveats in the documentation: https://pandas.pydata.org/pandas-docs/stable/user_guide/indexing.html#returning-a-view-versus-a-copy\n",
            "  if __name__ == '__main__':\n",
            "/usr/local/lib/python3.7/dist-packages/ipykernel_launcher.py:10: SettingWithCopyWarning: \n",
            "A value is trying to be set on a copy of a slice from a DataFrame\n",
            "\n",
            "See the caveats in the documentation: https://pandas.pydata.org/pandas-docs/stable/user_guide/indexing.html#returning-a-view-versus-a-copy\n",
            "  # Remove the CWD from sys.path while we load stuff.\n",
            "/usr/local/lib/python3.7/dist-packages/ipykernel_launcher.py:11: SettingWithCopyWarning: \n",
            "A value is trying to be set on a copy of a slice from a DataFrame\n",
            "\n",
            "See the caveats in the documentation: https://pandas.pydata.org/pandas-docs/stable/user_guide/indexing.html#returning-a-view-versus-a-copy\n",
            "  # This is added back by InteractiveShellApp.init_path()\n"
          ]
        }
      ],
      "source": [
        "X=df.drop(['Class'],axis=1)\n",
        "y=df['Class']\n",
        "\n",
        "myset = set(y)\n",
        "y[y=='SOGAY'] = 0 \n",
        "y[y=='IRAQI'] = 1 \n",
        "y[y=='ROTANA'] = 2 \n",
        "y[y=='BERHI'] = 3 \n",
        "y[y=='DEGLET'] = 4 \n",
        "y[y=='SAFAVI'] = 5 \n",
        "y[y=='DOKOL'] = 6 \n",
        "y=y.astype('int')\n",
        "\n",
        "X = np.array(X)\n",
        "y = np.array(y)\n",
        "\n",
        "X_train, X_test, y_train, y_test = train_test_split(X, y, test_size=0.25, random_state=42)"
      ]
    },
    {
      "cell_type": "code",
      "execution_count": 71,
      "metadata": {
        "colab": {
          "base_uri": "https://localhost:8080/"
        },
        "id": "fTYNEoHIjT_8",
        "outputId": "d88de149-c27c-45ca-9ecc-f5550b141350"
      },
      "outputs": [
        {
          "name": "stdout",
          "output_type": "stream",
          "text": [
            "0.92\n"
          ]
        }
      ],
      "source": [
        "classifiers = [LinearDiscriminantAnalysis(),\n",
        "               SVC(kernel='poly'),\n",
        "               RandomForestClassifier(n_estimators=100, random_state=0), \n",
        "               GaussianNB()]\n",
        "\n",
        "model = MultipleSimplificationLearner(classifiers,\"highestF1\")\n",
        "\n",
        "model.fit(X, y)\n",
        "\n",
        "y_pred = model.predict(X_test)\n",
        "\n",
        "print(accuracy_score(y_test, y_pred)) "
      ]
    }
  ],
  "metadata": {
    "colab": {
      "collapsed_sections": [],
      "name": "Untitled3.ipynb",
      "provenance": []
    },
    "kernelspec": {
      "display_name": "Python 3",
      "name": "python3"
    },
    "language_info": {
      "name": "python"
    }
  },
  "nbformat": 4,
  "nbformat_minor": 0
}
